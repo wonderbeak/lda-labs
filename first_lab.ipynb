{
 "cells": [
  {
   "cell_type": "code",
   "execution_count": 1,
   "metadata": {},
   "outputs": [],
   "source": [
    "import pandas as pd\n",
    "import pyspark.sql.functions\n",
    "# Reading CSV file with tweets / users (escaping \\r\\n with multiLine and escape options)\n",
    "tweets = sqlContext.read.format('com.databricks.spark.csv')\\\n",
    ".options(header='true', inferschema='true', encoding='UTF-8', parserLib='univocity',  multiLine='true', escape='\\\"')\\\n",
    ".load('/Users/brugge/Documents/lu/lda/tweets.csv')\n",
    "tweets.registerTempTable(\"tweets\")\n",
    "users = sqlContext.read.format('com.databricks.spark.csv')\\\n",
    ".options(header='true', inferschema='true', parserLib='univocity',  multiLine='true', escape='\\\"')\\\n",
    ".load('/Users/brugge/Documents/lu/lda/users.csv')\n",
    "users.registerTempTable(\"users\")"
   ]
  },
  {
   "cell_type": "code",
   "execution_count": 2,
   "metadata": {},
   "outputs": [
    {
     "name": "stdout",
     "output_type": "stream",
     "text": [
      "root\n",
      " |-- user_id: long (nullable = true)\n",
      " |-- user_key: string (nullable = true)\n",
      " |-- created_at: long (nullable = true)\n",
      " |-- created_str: timestamp (nullable = true)\n",
      " |-- retweet_count: integer (nullable = true)\n",
      " |-- retweeted: boolean (nullable = true)\n",
      " |-- favorite_count: integer (nullable = true)\n",
      " |-- text: string (nullable = true)\n",
      " |-- tweet_id: long (nullable = true)\n",
      " |-- source: string (nullable = true)\n",
      " |-- hashtags: string (nullable = true)\n",
      " |-- expanded_urls: string (nullable = true)\n",
      " |-- posted: string (nullable = true)\n",
      " |-- mentions: string (nullable = true)\n",
      " |-- retweeted_status_id: long (nullable = true)\n",
      " |-- in_reply_to_status_id: long (nullable = true)\n",
      "\n",
      "root\n",
      " |-- id: long (nullable = true)\n",
      " |-- location: string (nullable = true)\n",
      " |-- name: string (nullable = true)\n",
      " |-- followers_count: integer (nullable = true)\n",
      " |-- statuses_count: integer (nullable = true)\n",
      " |-- time_zone: string (nullable = true)\n",
      " |-- verified: boolean (nullable = true)\n",
      " |-- lang: string (nullable = true)\n",
      " |-- screen_name: string (nullable = true)\n",
      " |-- description: string (nullable = true)\n",
      " |-- created_at: string (nullable = true)\n",
      " |-- favourites_count: integer (nullable = true)\n",
      " |-- friends_count: integer (nullable = true)\n",
      " |-- listed_count: integer (nullable = true)\n",
      "\n"
     ]
    }
   ],
   "source": [
    "#print(\"Tweets Schema\")\n",
    "tweets.printSchema()\n",
    "#print(\"Users Schema\")\n",
    "users.printSchema()"
   ]
  },
  {
   "cell_type": "code",
   "execution_count": 3,
   "metadata": {},
   "outputs": [
    {
     "name": "stdout",
     "output_type": "stream",
     "text": [
      "+--------------+\n",
      "|count(user_id)|\n",
      "+--------------+\n",
      "|        195386|\n",
      "+--------------+\n",
      "\n"
     ]
    },
    {
     "data": {
      "text/plain": [
       "195386"
      ]
     },
     "execution_count": 3,
     "metadata": {},
     "output_type": "execute_result"
    }
   ],
   "source": [
    "# export of tweets csv with data quality count\n",
    "sqlContext.sql(\"select count(user_id) from tweets\").show()\n",
    "tweets.na.drop(subset='user_id').count()"
   ]
  },
  {
   "cell_type": "code",
   "execution_count": 4,
   "metadata": {},
   "outputs": [
    {
     "name": "stdout",
     "output_type": "stream",
     "text": [
      "+------------------+\n",
      "|count(DISTINCT id)|\n",
      "+------------------+\n",
      "|               392|\n",
      "+------------------+\n",
      "\n"
     ]
    },
    {
     "data": {
      "text/plain": [
       "392"
      ]
     },
     "execution_count": 4,
     "metadata": {},
     "output_type": "execute_result"
    }
   ],
   "source": [
    "# export of users csv with data quality \n",
    "sqlContext.sql(\"select count(distinct id) from users\").show()\n",
    "users.na.drop(subset='id').distinct().count()"
   ]
  },
  {
   "cell_type": "code",
   "execution_count": 5,
   "metadata": {},
   "outputs": [
    {
     "name": "stdout",
     "output_type": "stream",
     "text": [
      "+-----+-----+\n",
      "|month|  sum|\n",
      "+-----+-----+\n",
      "| null|   21|\n",
      "|    1|23890|\n",
      "|    2|16391|\n",
      "|    3|13641|\n",
      "|    4| 6715|\n",
      "|    5| 4005|\n",
      "|    6| 3237|\n",
      "|    7|12337|\n",
      "|    8|13814|\n",
      "|    9|25947|\n",
      "|   10|28951|\n",
      "|   11|22978|\n",
      "|   12|23459|\n",
      "+-----+-----+\n",
      "\n"
     ]
    }
   ],
   "source": [
    "# Tweets count per months + null\n",
    "from pyspark.sql.functions import month, count\n",
    "tweets2 = tweets\n",
    "tweets2.groupBy(month('created_str').alias(\"month\"))\\\n",
    "    .agg(count('user_id').alias(\"sum\"))\\\n",
    "    .orderBy('month')\\\n",
    "    .show()"
   ]
  },
  {
   "cell_type": "code",
   "execution_count": 6,
   "metadata": {},
   "outputs": [
    {
     "data": {
      "text/plain": [
       "Row(user_key='manuelkrosss', text='Pal�stinenser erschie�t Israelis � Attent�ter tot https://t.co/F4aO6rgWWV', created_str=datetime.datetime(2017, 9, 26, 9, 5, 32))"
      ]
     },
     "execution_count": 6,
     "metadata": {},
     "output_type": "execute_result"
    }
   ],
   "source": [
    "tweets.orderBy(tweets.created_at.desc())\\\n",
    ".select('user_key', 'text', 'created_str')\\\n",
    ".first()"
   ]
  },
  {
   "cell_type": "code",
   "execution_count": 7,
   "metadata": {},
   "outputs": [
    {
     "data": {
      "text/plain": [
       "Row(user_key='evagreen69', text='I am in Love with LOVE!', created_at=1405361095000)"
      ]
     },
     "execution_count": 7,
     "metadata": {},
     "output_type": "execute_result"
    }
   ],
   "source": [
    "tweets.na.drop(subset='created_at')\\\n",
    ".orderBy(tweets.created_at.asc())\\\n",
    ".select('user_key', 'text', 'created_at').first()"
   ]
  },
  {
   "cell_type": "code",
   "execution_count": 8,
   "metadata": {},
   "outputs": [],
   "source": [
    "tweets = tweets.join(users, tweets.user_id == users.id, 'inner')"
   ]
  },
  {
   "cell_type": "code",
   "execution_count": 9,
   "metadata": {},
   "outputs": [
    {
     "name": "stdout",
     "output_type": "stream",
     "text": [
      "+----------+-----+\n",
      "|        id|count|\n",
      "+----------+-----+\n",
      "|1679279490| 9269|\n",
      "|1671234620| 6813|\n",
      "|2882013788| 6652|\n",
      "|2671070290| 4140|\n",
      "|4508630900| 3663|\n",
      "|1727482238| 3346|\n",
      "|1768259989| 3263|\n",
      "|1868496344| 3261|\n",
      "|2572058134| 3229|\n",
      "|1658420976| 3215|\n",
      "|1655194147| 3212|\n",
      "|1658202894| 3201|\n",
      "|1623180199| 3197|\n",
      "|1684524144| 3197|\n",
      "|4224729994| 3194|\n",
      "|1676481360| 3192|\n",
      "|1660771422| 3188|\n",
      "|1694026190| 3169|\n",
      "|1649967228| 3159|\n",
      "|1680366068| 3156|\n",
      "+----------+-----+\n",
      "only showing top 20 rows\n",
      "\n"
     ]
    }
   ],
   "source": [
    "# Grouped by UserId and 20 rows fetched in descending order\n",
    "mostTweets = tweets.groupBy(users.id).count().orderBy('count', ascending = False).show(20)"
   ]
  },
  {
   "cell_type": "code",
   "execution_count": 10,
   "metadata": {},
   "outputs": [
    {
     "name": "stdout",
     "output_type": "stream",
     "text": [
      "+--------------------+-----+\n",
      "|                 URL|count|\n",
      "+--------------------+-----+\n",
      "|https://t.co/rRZg...|    6|\n",
      "|https://t.co/aXQa...|    6|\n",
      "|https://t.co/telX...|    4|\n",
      "|https://t.co/3d02...|    2|\n",
      "|https://t.co/RZbn...|    2|\n",
      "|https://t.co/S9bv...|    2|\n",
      "|https://t.co/cdnQ...|    2|\n",
      "|https://t.co/1KPX...|    2|\n",
      "|https://t.co/HivQ...|    2|\n",
      "|https://t.co/8bMd...|    2|\n",
      "|https://t.co/eMX9...|    2|\n",
      "|https://t.co/iChL...|    2|\n",
      "|https://t.co/1jS4...|    2|\n",
      "|https://t.co/G6IF...|    1|\n",
      "|https://t.co/jXBm...|    1|\n",
      "|https://t.co/TZsD...|    1|\n",
      "|https://t.co/biG1...|    1|\n",
      "|https://t.co/lEHn...|    1|\n",
      "|https://t.co/wXM0...|    1|\n",
      "|https://t.co/6hyg...|    1|\n",
      "+--------------------+-----+\n",
      "only showing top 20 rows\n",
      "\n"
     ]
    }
   ],
   "source": [
    "import requests, re\n",
    "from pyspark.sql import Row\n",
    "from collections import Counter\n",
    "\n",
    "# used for unshortening URL, but faced exception ;/\n",
    "def unshorten_url(url):\n",
    "    try:\n",
    "        r = requests.Session().head(url, allow_redirects=True).url\n",
    "        return r\n",
    "    except e:\n",
    "        return e\n",
    "# search for URL inside of tweet text with re library and regex defined\n",
    "regex = 'http[s]?://(?:[a-zA-Z]|[0-9]|[$-_@.&+]|[!*\\(\\),]&(?:%[0-9a-fA-F][0-9a-fA-F]))+'\n",
    "def get_url(url):\n",
    "    return re.findall(regex, url)\n",
    "\n",
    "# Select tweets text and search\n",
    "s = tweets.select('text').rdd.flatMap(lambda x: get_url(x[0]))\n",
    "urls = sc.parallelize(s.take(2000))\n",
    "urls.map(Row(\"URL\")).toDF()\\\n",
    ".filter('length(URL) > 19')\\\n",
    ".groupBy('URL').count()\\\n",
    ".orderBy('count', ascending = False)\\\n",
    ".show()\n",
    "# .select(lambda x: unshorten_url(x))\\  \n",
    "# To transform to correct URL by func defined above - unshorten_url"
   ]
  },
  {
   "cell_type": "code",
   "execution_count": 11,
   "metadata": {},
   "outputs": [
    {
     "name": "stdout",
     "output_type": "stream",
     "text": [
      "+--------------------+-----+\n",
      "|            hashtags|count|\n",
      "+--------------------+-----+\n",
      "|      [[\"Politics\"]]| 3097|\n",
      "|          [[\"news\"]]| 1319|\n",
      "|          [[\"tcot\"]]|  971|\n",
      "|[[\"MerkelMussBlei...|  791|\n",
      "|[[\"RejectedDebate...|  614|\n",
      "|         [[\"Trump\"]]|  546|\n",
      "|[[\"ThingsYouCantI...|  526|\n",
      "|[[\"SurvivalGuideT...|  518|\n",
      "|          [[\"maga\"]]|  517|\n",
      "|[[\"IdRunForPresid...|  494|\n",
      "|[[\"ThingsMoreTrus...|  492|\n",
      "|[[\"BetterAlternat...|  492|\n",
      "|[[\"ChristmasAfter...|  491|\n",
      "|    [[\"nowplaying\"]]|  478|\n",
      "|    [[\"IslamKills\"]]|  476|\n",
      "|[[\"IHaveARightToK...|  475|\n",
      "|[[\"RuinADinnerInO...|  469|\n",
      "|[[\"RealLifeMagicS...|  469|\n",
      "|[[\"GiftIdeasForPo...|  459|\n",
      "|         [[\"pjnet\"]]|  450|\n",
      "+--------------------+-----+\n",
      "only showing top 20 rows\n",
      "\n"
     ]
    }
   ],
   "source": [
    "# All hashtags list per count in the tweets\n",
    "pip = pyspark.sql.functions.split(tweets['hashtags'], ',')\n",
    "tweets.filter(tweets.hashtags != '[]')\\\n",
    ".withColumn('hashtags', pip)\\\n",
    ".groupBy('hashtags')\\\n",
    ".count()\\\n",
    ".select('hashtags', 'count')\\\n",
    ".orderBy('count', ascending=False)\\\n",
    ".show(20)"
   ]
  },
  {
   "cell_type": "code",
   "execution_count": 12,
   "metadata": {},
   "outputs": [
    {
     "data": {
      "image/png": "[encoded data removed]",
      "text/plain": [
       "<matplotlib.figure.Figure at 0x110cbdbe0>"
      ]
     },
     "metadata": {},
     "output_type": "display_data"
    }
   ],
   "source": [
    "%matplotlib inline\n",
    "import matplotlib\n",
    "import matplotlib.pyplot as plt\n",
    "# For drawing :)\n",
    "matplotlib.rcParams['axes.unicode_minus'] = False\n",
    "fig, ax = plt.subplots()\n",
    "ax.plot(tweets.groupBy(users.id).count().orderBy('count', ascending = False).select('count').collect(), '.')\n",
    "ax.set_title('20 aktīvākos tvītu autorus un to tvītu skaitu, sakārtotus dilstošā tvītu skaita secībā\\n')\n",
    "plt.show()"
   ]
  },
  {
   "cell_type": "code",
   "execution_count": 14,
   "metadata": {},
   "outputs": [
    {
     "name": "stdout",
     "output_type": "stream",
     "text": [
      "+-----+--------------------+--------------------+\n",
      "|month|            hashtags|            hashtags|\n",
      "+-----+--------------------+--------------------+\n",
      "|   12|[\"StandUpForScien...|[\"StandUpForScien...|\n",
      "|   12|       [\"Democrats\"]|       [\"Democrats\"]|\n",
      "|   12|[\"BernieWouldHave...|[\"BernieWouldHave...|\n",
      "|   12|        [\"ReduceDC\"]|        [\"ReduceDC\"]|\n",
      "|   12|         [\"poverty\"]|         [\"poverty\"]|\n",
      "|   12|        [\"cemetery\"]|        [\"cemetery\"]|\n",
      "|   12|        [\"BlackLiv\"]|        [\"BlackLiv\"]|\n",
      "|   12|      [\"EnforceLaw\"]|      [\"EnforceLaw\"]|\n",
      "|   12|       [\"TamirRice\"]|       [\"TamirRice\"]|\n",
      "|   12|    [\"cabinetpicks\"]|    [\"cabinetpicks\"]|\n",
      "|   12|        [\"ArticleV\"]|        [\"ArticleV\"]|\n",
      "|   12|          [\"health\"]|          [\"health\"]|\n",
      "|   12|   [\"neckillusions\"]|   [\"neckillusions\"]|\n",
      "|   12|          [\"Itunes\"]|          [\"Itunes\"]|\n",
      "|   12|    [\"HacksawRidge\"]|    [\"HacksawRidge\"]|\n",
      "|   12|            [\"Sell\"]|            [\"Sell\"]|\n",
      "|   12|       [\"MediaBias\"]|       [\"MediaBias\"]|\n",
      "|   12|[\"LovePresidentTr...|[\"LovePresidentTr...|\n",
      "|   12|        [\"applause\"]|        [\"applause\"]|\n",
      "|   12|     [\"RelishaRudd\"]|     [\"RelishaRudd\"]|\n",
      "+-----+--------------------+--------------------+\n",
      "only showing top 20 rows\n",
      "\n"
     ]
    }
   ],
   "source": [
    "# Tweet hashtags per month\n",
    "from pyspark.sql.functions import month, count\n",
    "tweets2 = tweets\n",
    "tweets2.groupBy(month('created_str').alias(\"month\"), 'hashtags')\\\n",
    "    .agg(tweets2.hashtags)\\\n",
    "    .orderBy('month', ascending=False)\\\n",
    "    .show(20)"
   ]
  },
  {
   "cell_type": "code",
   "execution_count": null,
   "metadata": {},
   "outputs": [],
   "source": []
  },
  {
   "cell_type": "code",
   "execution_count": null,
   "metadata": {},
   "outputs": [],
   "source": []
  }
 ],
 "metadata": {
  "kernelspec": {
   "display_name": "Python 3",
   "language": "python",
   "name": "python3"
  },
  "language_info": {
   "codemirror_mode": {
    "name": "ipython",
    "version": 3
   },
   "file_extension": ".py",
   "mimetype": "text/x-python",
   "name": "python",
   "nbconvert_exporter": "python",
   "pygments_lexer": "ipython3",
   "version": "3.6.4"
  }
 },
 "nbformat": 4,
 "nbformat_minor": 2
}
